{
 "cells": [
  {
   "cell_type": "markdown",
   "id": "97d81dc5",
   "metadata": {},
   "source": [
    "# Dependencies"
   ]
  },
  {
   "cell_type": "code",
   "execution_count": 2,
   "id": "b7ac1fb5",
   "metadata": {},
   "outputs": [],
   "source": [
    "import re   # Working with regular expressions. Not needed to check if substring is contained in string\n",
    "import matplotlib.pyplot as plt\n",
    "from datetime import datetime\n",
    "import time\n",
    "import numpy as np\n",
    "import os\n",
    "import sys\n",
    "import glob\n",
    "import pandas"
   ]
  },
  {
   "cell_type": "markdown",
   "id": "entertaining-pressing",
   "metadata": {},
   "source": [
    "# Methods"
   ]
  },
  {
   "cell_type": "code",
   "execution_count": null,
   "id": "driving-thriller",
   "metadata": {},
   "outputs": [],
   "source": [
    "#%Y-%m-%d -give the date ,%f give microseconds"
   ]
  },
  {
   "cell_type": "code",
   "execution_count": 60,
   "id": "advisory-stuff",
   "metadata": {},
   "outputs": [],
   "source": [
    "def t_str_to_ts(ts):\n",
    "    tp = datetime.strptime(ts, '%H:%M:%S')\n",
    "    return time.mktime(tp.timetuple()) + tp.microsecond/1e6"
   ]
  },
  {
   "cell_type": "code",
   "execution_count": 92,
   "id": "efficient-honor",
   "metadata": {},
   "outputs": [],
   "source": [
    "def get_time(string):\n",
    "    pattern = re.compile(\"[0-9]{2}:[0-9]{2}:[0-9]{2}\") # Abstract form of time stamps using regular expressions.\n",
    "    pos = pattern.search(string) # Find the locations of the pattern in the string.\n",
    "    \n",
    "    # Timestamps have the form hh:mm:ss\n",
    "    hrs = string[pos.start():pos.start()+2] \n",
    "    mins = string[pos.start()+3:pos.start()+5]\n",
    "    secs = string[pos.start()+6:pos.start()+8]\n",
    "    hrs\n",
    "    # Return the hours, minutes and seconds, converted to numbers (here integers)\n",
    "    return [int(hrs)*3600 + int(mins)*60 + int(secs)]\n",
    "\n"
   ]
  },
  {
   "cell_type": "code",
   "execution_count": 91,
   "id": "interstate-montreal",
   "metadata": {},
   "outputs": [
    {
     "data": {
      "text/plain": [
       "[57685]"
      ]
     },
     "execution_count": 91,
     "metadata": {},
     "output_type": "execute_result"
    }
   ],
   "source": [
    "get_time(\"[16:11:14]{training.py:75} INFO - Starting trial 34 from the right with             0.4 s delay\")"
   ]
  },
  {
   "cell_type": "markdown",
   "id": "systematic-gentleman",
   "metadata": {},
   "source": [
    "# Data\n"
   ]
  },
  {
   "cell_type": "code",
   "execution_count": 25,
   "id": "breathing-scanner",
   "metadata": {},
   "outputs": [],
   "source": [
    "path_m400060 = \"NF_group1/m400060/\"\n",
    "directory_list = sorted(os.listdir( path_m400060 ))\n",
    "\n",
    "\n",
    "\n",
    "\n",
    "active_trials = []\n",
    "successes = []\n",
    "failures = []\n",
    "timeouts = []\n",
    "dates = []\n",
    "\n",
    "\n",
    "for directory in directory_list:\n",
    "    file = [path_m400060 + directory + \"/\"+ file for file in os.listdir(path_m400060+directory) if \"game\" in file][0]\n",
    "    at = []\n",
    "    sc = []\n",
    "    fl = []\n",
    "    to = []\n",
    "    dates.append(directory)\n",
    "    with open(file,\"r\") as current_file:\n",
    "        for line in current_file.readlines():\n",
    "            if \"Starting trial\" in line:\n",
    "                at.append(line)\n",
    "            elif \"goal\" in line:\n",
    "                sc.append(line)\n",
    "            elif \"overshoot\" in line:\n",
    "                fl.append(line)\n",
    "            elif \"timeout\" in line:\n",
    "                to.append(line)\n",
    "                \n",
    "    active_trials.append(at)\n",
    "    successes.append(sc)\n",
    "    failures.append(fl)\n",
    "    timeouts.append(to)\n",
    "    \n",
    "    \n",
    "    \n",
    "\n",
    "number_trials = [len(list)-1 for list in active_trials]\n",
    "number_successes = [len(list) for list in successes]\n",
    "number_failures = [len(list) for list in failures]\n",
    "number_timeouts = [len(list) for list in timeouts]"
   ]
  },
  {
   "cell_type": "code",
   "execution_count": 23,
   "id": "visible-frontier",
   "metadata": {},
   "outputs": [],
   "source": [
    "path_m400061 = \"NF_group1/m400061/\"\n",
    "directory_list = sorted(os.listdir( path_m400061 ))\n",
    "\n",
    "\n",
    "\n",
    "\n",
    "active_trials_61 = []\n",
    "successes_61 = []\n",
    "failures_61 = []\n",
    "timeouts_61 = []\n",
    "dates_61 = []\n",
    "\n",
    "\n",
    "for directory in directory_list:\n",
    "    file = [path_m400061 + directory + \"/\"+ file for file in os.listdir(path_m400061+directory) if \"game\" in file][0]\n",
    "    at = []\n",
    "    sc = []\n",
    "    fl = []\n",
    "    to = []\n",
    "    dates.append(directory)\n",
    "    with open(file,\"r\") as current_file:\n",
    "        for line in current_file.readlines():\n",
    "            if \"Starting trial\" in line:\n",
    "                at.append(line)\n",
    "            elif \"goal\" in line:\n",
    "                sc.append(line)\n",
    "            elif \"overshoot\" in line:\n",
    "                fl.append(line)\n",
    "            elif \"timeout\" in line:\n",
    "                to.append(line)\n",
    "                \n",
    "    active_trials_61.append(at)\n",
    "    successes_61.append(sc)\n",
    "    failures_61.append(fl)\n",
    "    timeouts_61.append(to)\n",
    "    \n",
    "    \n",
    "    \n",
    "\n",
    "number_trials_61 = [len(list)-1 for list in active_trials_61]\n",
    "number_successes_61 = [len(list) for list in successes_61]\n",
    "number_failures_61 = [len(list) for list in failures_61]\n",
    "number_timeouts_61 = [len(list) for list in timeouts_61]"
   ]
  },
  {
   "cell_type": "code",
   "execution_count": 44,
   "id": "centered-beads",
   "metadata": {},
   "outputs": [
    {
     "data": {
      "text/plain": [
       "[0.40804597701149425,\n",
       " 0.3924731182795699,\n",
       " 0.450261780104712,\n",
       " 0.35772357723577236,\n",
       " 0.41916167664670656,\n",
       " 0.20634920634920634,\n",
       " 0.1917808219178082,\n",
       " 0.23595505617977527,\n",
       " 0.23303834808259588,\n",
       " 0.24414715719063546]"
      ]
     },
     "execution_count": 44,
     "metadata": {},
     "output_type": "execute_result"
    }
   ],
   "source": [
    "success_rates = [number_successes[i] / number_trials[i] for i in range(len(dates))]\n",
    "success_rates"
   ]
  },
  {
   "cell_type": "code",
   "execution_count": 8,
   "id": "eastern-lodge",
   "metadata": {},
   "outputs": [
    {
     "data": {
      "text/plain": [
       "[174, 186, 191, 123, 167, 567, 365, 445, 339, 299]"
      ]
     },
     "execution_count": 8,
     "metadata": {},
     "output_type": "execute_result"
    }
   ],
   "source": [
    "number_trials"
   ]
  },
  {
   "cell_type": "code",
   "execution_count": 42,
   "id": "british-heater",
   "metadata": {},
   "outputs": [
    {
     "data": {
      "image/png": "[encoded data removed]",
      "text/plain": [
       "<Figure size 432x288 with 1 Axes>"
      ]
     },
     "metadata": {
      "needs_background": "light"
     },
     "output_type": "display_data"
    }
   ],
   "source": [
    "plt.title(\"Performance of mice 60\")\n",
    "plt.plot(number_successes, label='success') \n",
    "plt.plot(number_trials, label='active trials')   \n",
    "plt.plot(number_failures, label='failures')   \n",
    "plt.plot(number_timeouts, label='passive trials')\n",
    "plt.xlabel(\"days\")\n",
    "plt.xticks(np.arange(10), np.arange(1, 10+1))\n",
    "plt.ylabel(\"number of events\")\n",
    "plt.ylim(-20,1000)\n",
    "plt.legend()\n",
    "plt.savefig(\"performance_60\")\n"
   ]
  },
  {
   "cell_type": "code",
   "execution_count": 43,
   "id": "cross-tomorrow",
   "metadata": {},
   "outputs": [
    {
     "data": {
      "image/png": "[encoded data removed]",
      "text/plain": [
       "<Figure size 432x288 with 1 Axes>"
      ]
     },
     "metadata": {
      "needs_background": "light"
     },
     "output_type": "display_data"
    }
   ],
   "source": [
    "plt.title(\"Performance of mice 61\")\n",
    "\n",
    "plt.plot(number_successes_61, label='success') \n",
    "plt.plot(number_trials_61, label='active trials')   \n",
    "plt.plot(number_failures_61, label='failures')   \n",
    "plt.plot(number_timeouts_61, label='passive trials')\n",
    "plt.xlabel(\"days\")\n",
    "plt.xticks(np.arange(10), np.arange(1, 10+1))\n",
    "plt.ylabel(\"number of events\")\n",
    "plt.ylim(-20,1000)\n",
    "plt.legend()\n",
    "plt.savefig(\"performance_61\")\n",
    "\n"
   ]
  },
  {
   "cell_type": "code",
   "execution_count": 83,
   "id": "ce774357",
   "metadata": {},
   "outputs": [
    {
     "data": {
      "text/plain": [
       "['[16:00:20]{training.py:75} INFO - Starting trial 1 from the left with             0.3 s delay\\n',\n",
       " '[16:00:26]{training.py:75} INFO - Starting trial 2 from the left with             0.0 s delay\\n',\n",
       " '[16:00:28]{training.py:75} INFO - Starting trial 3 from the left with             0.2 s delay\\n',\n",
       " '[16:00:45]{training.py:75} INFO - Starting trial 4 from the left with             0.2 s delay\\n',\n",
       " '[16:00:50]{training.py:75} INFO - Starting trial 5 from the left with             0.3 s delay\\n',\n",
       " '[16:00:58]{training.py:75} INFO - Starting trial 6 from the left with             0.3 s delay\\n',\n",
       " '[16:01:25]{training.py:75} INFO - Starting trial 7 from the left with             0.1 s delay\\n',\n",
       " '[16:01:27]{training.py:75} INFO - Starting trial 8 from the left with             0.1 s delay\\n',\n",
       " '[16:01:29]{training.py:75} INFO - Starting trial 9 from the left with             0.3 s delay\\n',\n",
       " '[16:01:38]{training.py:75} INFO - Starting trial 10 from the left with             0.2 s delay\\n',\n",
       " '[16:01:42]{training.py:75} INFO - Starting trial 11 from the left with             0.2 s delay\\n',\n",
       " '[16:02:09]{training.py:75} INFO - Starting trial 12 from the left with             0.1 s delay\\n',\n",
       " '[16:02:22]{training.py:75} INFO - Starting trial 13 from the left with             0.1 s delay\\n',\n",
       " '[16:02:25]{training.py:75} INFO - Starting trial 14 from the left with             0.3 s delay\\n',\n",
       " '[16:03:12]{training.py:75} INFO - Starting trial 15 from the left with             0.4 s delay\\n',\n",
       " '[16:03:22]{training.py:75} INFO - Starting trial 16 from the left with             0.5 s delay\\n',\n",
       " '[16:03:26]{training.py:75} INFO - Starting trial 17 from the left with             0.3 s delay\\n',\n",
       " '[16:04:15]{training.py:75} INFO - Starting trial 18 from the left with             0.2 s delay\\n',\n",
       " '[16:05:17]{training.py:75} INFO - Starting trial 19 from the left with             0.3 s delay\\n',\n",
       " '[16:05:53]{training.py:75} INFO - Starting trial 20 from the left with             0.2 s delay\\n',\n",
       " '[16:05:56]{training.py:75} INFO - Starting trial 21 from the left with             0.1 s delay\\n',\n",
       " '[16:06:58]{training.py:75} INFO - Starting trial 22 from the left with             0.1 s delay\\n',\n",
       " '[16:07:39]{training.py:75} INFO - Starting trial 23 from the left with             0.1 s delay\\n',\n",
       " '[16:08:41]{training.py:75} INFO - Starting trial 24 from the left with             0.2 s delay\\n',\n",
       " '[16:09:08]{training.py:75} INFO - Starting trial 25 from the left with             0.3 s delay\\n',\n",
       " '[16:09:11]{training.py:75} INFO - Starting trial 26 from the left with             0.2 s delay\\n',\n",
       " '[16:09:13]{training.py:75} INFO - Starting trial 27 from the left with             0.2 s delay\\n',\n",
       " '[16:09:26]{training.py:75} INFO - Starting trial 28 from the left with             0.2 s delay\\n',\n",
       " '[16:09:28]{training.py:75} INFO - Starting trial 29 from the left with             0.3 s delay\\n',\n",
       " '[16:10:30]{training.py:75} INFO - Starting trial 30 from the left with             0.1 s delay\\n',\n",
       " '[16:10:34]{training.py:75} INFO - Starting trial 31 from the left with             0.2 s delay\\n',\n",
       " '[16:10:41]{training.py:75} INFO - Starting trial 32 from the left with             0.5 s delay\\n',\n",
       " '[16:35:51]{training.py:75} INFO - Starting trial 105 from the left with             0.3 s delay\\n',\n",
       " '[16:36:00]{training.py:75} INFO - Starting trial 106 from the left with             0.1 s delay\\n',\n",
       " '[16:36:02]{training.py:75} INFO - Starting trial 107 from the left with             0.3 s delay\\n',\n",
       " '[16:36:15]{training.py:75} INFO - Starting trial 108 from the left with             0.1 s delay\\n',\n",
       " '[16:36:23]{training.py:75} INFO - Starting trial 109 from the left with             0.4 s delay\\n',\n",
       " '[16:36:49]{training.py:75} INFO - Starting trial 110 from the left with             0.1 s delay\\n',\n",
       " '[16:36:54]{training.py:75} INFO - Starting trial 111 from the left with             0.1 s delay\\n',\n",
       " '[16:37:16]{training.py:75} INFO - Starting trial 112 from the left with             0.4 s delay\\n',\n",
       " '[16:37:42]{training.py:75} INFO - Starting trial 113 from the left with             0.2 s delay\\n',\n",
       " '[16:37:47]{training.py:75} INFO - Starting trial 114 from the left with             0.3 s delay\\n',\n",
       " '[16:38:11]{training.py:75} INFO - Starting trial 115 from the left with             0.1 s delay\\n',\n",
       " '[16:39:13]{training.py:75} INFO - Starting trial 116 from the left with             0.1 s delay\\n',\n",
       " '[16:39:26]{training.py:75} INFO - Starting trial 117 from the left with             0.5 s delay\\n',\n",
       " '[16:39:45]{training.py:75} INFO - Starting trial 118 from the left with             0.2 s delay\\n',\n",
       " '[16:39:48]{training.py:75} INFO - Starting trial 119 from the left with             0.2 s delay\\n',\n",
       " '[16:39:53]{training.py:75} INFO - Starting trial 120 from the left with             0.5 s delay\\n',\n",
       " '[16:40:12]{training.py:75} INFO - Starting trial 121 from the left with             0.2 s delay\\n',\n",
       " '[16:40:15]{training.py:75} INFO - Starting trial 122 from the left with             0.1 s delay\\n',\n",
       " '[16:41:17]{training.py:75} INFO - Starting trial 123 from the left with             0.3 s delay\\n',\n",
       " '[16:42:16]{training.py:75} INFO - Starting trial 124 from the left with             0.2 s delay\\n',\n",
       " '[16:43:18]{training.py:75} INFO - Starting trial 125 from the left with             0.2 s delay\\n',\n",
       " '[16:43:36]{training.py:75} INFO - Starting trial 126 from the left with             0.1 s delay\\n',\n",
       " '[16:43:38]{training.py:75} INFO - Starting trial 127 from the left with             0.4 s delay\\n',\n",
       " '[16:44:40]{training.py:75} INFO - Starting trial 128 from the left with             0.2 s delay\\n',\n",
       " '[16:45:27]{training.py:75} INFO - Starting trial 129 from the left with             0.2 s delay\\n',\n",
       " '[16:45:31]{training.py:75} INFO - Starting trial 130 from the left with             0.1 s delay\\n',\n",
       " '[16:45:54]{training.py:75} INFO - Starting trial 131 from the left with             0.1 s delay\\n',\n",
       " '[16:45:57]{training.py:75} INFO - Starting trial 132 from the left with             0.1 s delay\\n',\n",
       " '[16:46:35]{training.py:75} INFO - Starting trial 133 from the left with             0.3 s delay\\n',\n",
       " '[16:46:45]{training.py:75} INFO - Starting trial 134 from the left with             0.1 s delay\\n',\n",
       " '[16:47:44]{training.py:75} INFO - Starting trial 135 from the left with             0.4 s delay\\n',\n",
       " '[16:48:45]{training.py:75} INFO - Starting trial 136 from the left with             0.1 s delay\\n',\n",
       " '[16:48:48]{training.py:75} INFO - Starting trial 137 from the left with             0.2 s delay\\n',\n",
       " '[16:49:18]{training.py:75} INFO - Starting trial 138 from the left with             0.1 s delay\\n',\n",
       " '[16:49:20]{training.py:75} INFO - Starting trial 139 from the left with             0.3 s delay\\n',\n",
       " '[16:49:26]{training.py:75} INFO - Starting trial 140 from the left with             0.4 s delay\\n',\n",
       " '[16:50:27]{training.py:75} INFO - Starting trial 141 from the left with             0.1 s delay\\n',\n",
       " '[16:51:27]{training.py:75} INFO - Starting trial 142 from the left with             0.1 s delay\\n',\n",
       " '[16:51:33]{training.py:75} INFO - Starting trial 143 from the left with             0.4 s delay\\n',\n",
       " '[16:52:14]{training.py:75} INFO - Starting trial 144 from the left with             0.1 s delay\\n',\n",
       " '[16:53:16]{training.py:75} INFO - Starting trial 145 from the left with             0.1 s delay\\n',\n",
       " '[16:53:19]{training.py:75} INFO - Starting trial 146 from the left with             0.3 s delay\\n',\n",
       " '[16:54:21]{training.py:75} INFO - Starting trial 147 from the left with             0.3 s delay\\n',\n",
       " '[16:54:41]{training.py:75} INFO - Starting trial 148 from the left with             0.4 s delay\\n',\n",
       " '[16:55:43]{training.py:75} INFO - Starting trial 149 from the left with             0.2 s delay\\n',\n",
       " '[16:56:02]{training.py:75} INFO - Starting trial 150 from the left with             0.2 s delay\\n',\n",
       " '[16:56:04]{training.py:75} INFO - Starting trial 151 from the left with             0.3 s delay\\n',\n",
       " '[16:56:11]{training.py:75} INFO - Starting trial 152 from the left with             0.5 s delay\\n',\n",
       " '[16:56:19]{training.py:75} INFO - Starting trial 153 from the left with             0.1 s delay\\n',\n",
       " '[16:56:37]{training.py:75} INFO - Starting trial 154 from the left with             0.2 s delay\\n',\n",
       " '[16:56:44]{training.py:75} INFO - Starting trial 155 from the left with             0.3 s delay\\n',\n",
       " '[16:56:46]{training.py:75} INFO - Starting trial 156 from the left with             0.2 s delay\\n',\n",
       " '[16:56:49]{training.py:75} INFO - Starting trial 157 from the left with             0.4 s delay\\n',\n",
       " '[16:56:56]{training.py:75} INFO - Starting trial 158 from the left with             0.1 s delay\\n',\n",
       " '[16:56:58]{training.py:75} INFO - Starting trial 159 from the left with             0.1 s delay\\n',\n",
       " '[16:57:01]{training.py:75} INFO - Starting trial 160 from the left with             0.3 s delay\\n',\n",
       " '[16:57:11]{training.py:75} INFO - Starting trial 161 from the left with             0.2 s delay\\n',\n",
       " '[16:57:24]{training.py:75} INFO - Starting trial 162 from the left with             0.2 s delay\\n',\n",
       " '[16:57:27]{training.py:75} INFO - Starting trial 163 from the left with             0.5 s delay\\n',\n",
       " '[16:58:29]{training.py:75} INFO - Starting trial 164 from the left with             0.2 s delay\\n',\n",
       " '[16:58:46]{training.py:75} INFO - Starting trial 165 from the left with             0.3 s delay\\n',\n",
       " '[16:58:50]{training.py:75} INFO - Starting trial 166 from the left with             0.1 s delay\\n',\n",
       " '[16:59:08]{training.py:75} INFO - Starting trial 167 from the left with             0.2 s delay\\n',\n",
       " '[16:59:12]{training.py:75} INFO - Starting trial 168 from the left with             0.3 s delay\\n',\n",
       " '[17:00:14]{training.py:75} INFO - Starting trial 169 from the left with             0.1 s delay\\n',\n",
       " '[17:00:20]{training.py:75} INFO - Starting trial 170 from the left with             0.3 s delay\\n',\n",
       " '[17:00:48]{training.py:75} INFO - Starting trial 171 from the left with             0.1 s delay\\n',\n",
       " '[17:00:50]{training.py:75} INFO - Starting trial 172 from the left with             0.3 s delay\\n',\n",
       " '[17:00:57]{training.py:75} INFO - Starting trial 173 from the left with             0.1 s delay\\n',\n",
       " '[17:01:23]{training.py:75} INFO - Starting trial 174 from the left with             0.2 s delay\\n',\n",
       " '[17:02:16]{training.py:75} INFO - Starting trial 175 from the left with             0.1 s delay\\n']"
      ]
     },
     "execution_count": 83,
     "metadata": {},
     "output_type": "execute_result"
    }
   ],
   "source": [
    "wheel_left = []\n",
    "wheel_right = []\n",
    "# The with statement will automatically close the file after the operations.\n",
    "with open(\"NF_group1/m400060/2021_08_09/20210809-160016_game.log\",\"r\") as current_file:\n",
    "    for line in current_file.readlines():\n",
    "        if \"from the left\" in line: \n",
    "            wheel_left.append(line)\n",
    "        elif \"from the right\" in line:\n",
    "            wheel_right.append(line)\n",
    "        \n",
    "    \n",
    " # Show the list:\n",
    "wheel_left"
   ]
  },
  {
   "cell_type": "code",
   "execution_count": 93,
   "id": "automotive-agency",
   "metadata": {},
   "outputs": [
    {
     "data": {
      "text/plain": [
       "[[58248],\n",
       " [58274],\n",
       " [58277],\n",
       " [58314],\n",
       " [58317],\n",
       " [58379],\n",
       " [58429],\n",
       " [58435],\n",
       " [58438],\n",
       " [58500]]"
      ]
     },
     "execution_count": 93,
     "metadata": {},
     "output_type": "execute_result"
    }
   ],
   "source": [
    "times_left = []\n",
    "times_right = []\n",
    "for i in wheel_left:\n",
    "    times_left.append(get_time(i))\n",
    "    \n",
    "for i in wheel_right:\n",
    "    times_right.append(get_time(i))    \n",
    "times_right[:10]   "
   ]
  },
  {
   "cell_type": "code",
   "execution_count": 94,
   "id": "established-elite",
   "metadata": {},
   "outputs": [
    {
     "data": {
      "text/plain": [
       "[[57620],\n",
       " [57626],\n",
       " [57628],\n",
       " [57645],\n",
       " [57650],\n",
       " [57658],\n",
       " [57685],\n",
       " [57687],\n",
       " [57689],\n",
       " [57698]]"
      ]
     },
     "execution_count": 94,
     "metadata": {},
     "output_type": "execute_result"
    }
   ],
   "source": [
    "times_left[:10]"
   ]
  },
  {
   "cell_type": "code",
   "execution_count": 100,
   "id": "published-deposit",
   "metadata": {},
   "outputs": [
    {
     "ename": "NameError",
     "evalue": "name 'data' is not defined",
     "output_type": "error",
     "traceback": [
      "\u001b[0;31m---------------------------------------------------------------------------\u001b[0m",
      "\u001b[0;31mNameError\u001b[0m                                 Traceback (most recent call last)",
      "\u001b[0;32m<ipython-input-100-eee2cda66e79>\u001b[0m in \u001b[0;36m<module>\u001b[0;34m\u001b[0m\n\u001b[0;32m----> 1\u001b[0;31m \u001b[0mwheel\u001b[0m\u001b[0;34m=\u001b[0m\u001b[0mdata\u001b[0m\u001b[0;34m[\u001b[0m\u001b[0;34m'states'\u001b[0m\u001b[0;34m]\u001b[0m\u001b[0;34m[\u001b[0m\u001b[0;36m5296\u001b[0m\u001b[0;34m:\u001b[0m\u001b[0;34m-\u001b[0m\u001b[0;36m1\u001b[0m\u001b[0;34m,\u001b[0m \u001b[0;36m0\u001b[0m\u001b[0;34m]\u001b[0m\u001b[0;34m\u001b[0m\u001b[0;34m\u001b[0m\u001b[0m\n\u001b[0m",
      "\u001b[0;31mNameError\u001b[0m: name 'data' is not defined"
     ]
    }
   ],
   "source": [
    "wheel=data['states'][5296:-1, 0]"
   ]
  },
  {
   "cell_type": "code",
   "execution_count": 99,
   "id": "grave-testimony",
   "metadata": {},
   "outputs": [
    {
     "ename": "NameError",
     "evalue": "name 'wheel' is not defined",
     "output_type": "error",
     "traceback": [
      "\u001b[0;31m---------------------------------------------------------------------------\u001b[0m",
      "\u001b[0;31mNameError\u001b[0m                                 Traceback (most recent call last)",
      "\u001b[0;32m<ipython-input-99-51e3b2cdf612>\u001b[0m in \u001b[0;36m<module>\u001b[0;34m\u001b[0m\n\u001b[0;32m----> 1\u001b[0;31m \u001b[0mplt\u001b[0m\u001b[0;34m.\u001b[0m\u001b[0mplot\u001b[0m\u001b[0;34m(\u001b[0m\u001b[0mwheel\u001b[0m\u001b[0;34m[\u001b[0m\u001b[0mtimes_left\u001b[0m\u001b[0;34m[\u001b[0m\u001b[0;36m0\u001b[0m\u001b[0;34m]\u001b[0m\u001b[0;34m]\u001b[0m\u001b[0;34m)\u001b[0m\u001b[0;34m\u001b[0m\u001b[0;34m\u001b[0m\u001b[0m\n\u001b[0m",
      "\u001b[0;31mNameError\u001b[0m: name 'wheel' is not defined"
     ]
    }
   ],
   "source": [
    "plt.plot(wheel[times_left[0]])"
   ]
  },
  {
   "cell_type": "code",
   "execution_count": 81,
   "id": "passing-fitting",
   "metadata": {},
   "outputs": [
    {
     "data": {
      "text/plain": [
       "['[16:00:20]{training.py:75} INFO - Starting trial 1 from the left with             0.3 s delay\\n',\n",
       " '[16:00:26]{training.py:75} INFO - Starting trial 2 from the left with             0.0 s delay\\n',\n",
       " '[16:00:28]{training.py:75} INFO - Starting trial 3 from the left with             0.2 s delay\\n',\n",
       " '[16:00:45]{training.py:75} INFO - Starting trial 4 from the left with             0.2 s delay\\n',\n",
       " '[16:00:50]{training.py:75} INFO - Starting trial 5 from the left with             0.3 s delay\\n',\n",
       " '[16:00:58]{training.py:75} INFO - Starting trial 6 from the left with             0.3 s delay\\n',\n",
       " '[16:01:25]{training.py:75} INFO - Starting trial 7 from the left with             0.1 s delay\\n',\n",
       " '[16:01:27]{training.py:75} INFO - Starting trial 8 from the left with             0.1 s delay\\n',\n",
       " '[16:01:29]{training.py:75} INFO - Starting trial 9 from the left with             0.3 s delay\\n',\n",
       " '[16:01:38]{training.py:75} INFO - Starting trial 10 from the left with             0.2 s delay\\n']"
      ]
     },
     "execution_count": 81,
     "metadata": {},
     "output_type": "execute_result"
    }
   ],
   "source": [
    "wheel_left[:10]\n"
   ]
  },
  {
   "cell_type": "code",
   "execution_count": 82,
   "id": "golden-roommate",
   "metadata": {},
   "outputs": [
    {
     "data": {
      "text/plain": [
       "['[16:10:48]{training.py:75} INFO - Starting trial 33 from the right with             0.1 s delay\\n',\n",
       " '[16:11:14]{training.py:75} INFO - Starting trial 34 from the right with             0.4 s delay\\n',\n",
       " '[16:11:17]{training.py:75} INFO - Starting trial 35 from the right with             0.4 s delay\\n',\n",
       " '[16:11:54]{training.py:75} INFO - Starting trial 36 from the right with             0.3 s delay\\n',\n",
       " '[16:11:57]{training.py:75} INFO - Starting trial 37 from the right with             0.4 s delay\\n',\n",
       " '[16:12:59]{training.py:75} INFO - Starting trial 38 from the right with             0.2 s delay\\n',\n",
       " '[16:13:49]{training.py:75} INFO - Starting trial 39 from the right with             0.5 s delay\\n',\n",
       " '[16:13:55]{training.py:75} INFO - Starting trial 40 from the right with             0.1 s delay\\n',\n",
       " '[16:13:58]{training.py:75} INFO - Starting trial 41 from the right with             0.1 s delay\\n',\n",
       " '[16:15:00]{training.py:75} INFO - Starting trial 42 from the right with             0.3 s delay\\n']"
      ]
     },
     "execution_count": 82,
     "metadata": {},
     "output_type": "execute_result"
    }
   ],
   "source": [
    "wheel_right[:10]"
   ]
  },
  {
   "cell_type": "code",
   "execution_count": 54,
   "id": "configured-france",
   "metadata": {},
   "outputs": [],
   "source": [
    "# trial_nums = [int(s[64:s.index(' from')]) for s in trials_numbers]\n",
    "# trial_nums"
   ]
  },
  {
   "cell_type": "code",
   "execution_count": null,
   "id": "danish-morocco",
   "metadata": {},
   "outputs": [],
   "source": []
  },
  {
   "cell_type": "code",
   "execution_count": 63,
   "id": "invalid-nutrition",
   "metadata": {
    "scrolled": true
   },
   "outputs": [
    {
     "ename": "ValueError",
     "evalue": "time data '[16:00:20]{training.py:75} INFO - Starting trial 1 from the left with             0.3 s delay\\n' does not match format '%H:%M:%S'",
     "output_type": "error",
     "traceback": [
      "\u001b[0;31m---------------------------------------------------------------------------\u001b[0m",
      "\u001b[0;31mValueError\u001b[0m                                Traceback (most recent call last)",
      "\u001b[0;32m<ipython-input-63-1967e39ef793>\u001b[0m in \u001b[0;36m<module>\u001b[0;34m\u001b[0m\n\u001b[0;32m----> 1\u001b[0;31m \u001b[0mt0\u001b[0m \u001b[0;34m=\u001b[0m \u001b[0mt_str_to_ts\u001b[0m\u001b[0;34m(\u001b[0m\u001b[0mtrials_numbers\u001b[0m\u001b[0;34m[\u001b[0m\u001b[0;36m0\u001b[0m\u001b[0;34m]\u001b[0m\u001b[0;34m)\u001b[0m\u001b[0;31m#[1:24])\u001b[0m\u001b[0;34m\u001b[0m\u001b[0;34m\u001b[0m\u001b[0m\n\u001b[0m\u001b[1;32m      2\u001b[0m \u001b[0mtimes\u001b[0m \u001b[0;34m=\u001b[0m \u001b[0;34m[\u001b[0m\u001b[0mt_str_to_ts\u001b[0m\u001b[0;34m(\u001b[0m\u001b[0mline\u001b[0m\u001b[0;34m)\u001b[0m\u001b[0;34m-\u001b[0m\u001b[0mt0\u001b[0m \u001b[0;32mfor\u001b[0m \u001b[0mline\u001b[0m \u001b[0;32min\u001b[0m \u001b[0mtrials_numbers\u001b[0m\u001b[0;34m]\u001b[0m\u001b[0;34m\u001b[0m\u001b[0;34m\u001b[0m\u001b[0m\n\u001b[1;32m      3\u001b[0m \u001b[0mtimes\u001b[0m\u001b[0;34m\u001b[0m\u001b[0;34m\u001b[0m\u001b[0m\n",
      "\u001b[0;32m<ipython-input-60-60ab91856698>\u001b[0m in \u001b[0;36mt_str_to_ts\u001b[0;34m(ts)\u001b[0m\n\u001b[1;32m      1\u001b[0m \u001b[0;32mdef\u001b[0m \u001b[0mt_str_to_ts\u001b[0m\u001b[0;34m(\u001b[0m\u001b[0mts\u001b[0m\u001b[0;34m)\u001b[0m\u001b[0;34m:\u001b[0m\u001b[0;34m\u001b[0m\u001b[0;34m\u001b[0m\u001b[0m\n\u001b[0;32m----> 2\u001b[0;31m     \u001b[0mtp\u001b[0m \u001b[0;34m=\u001b[0m \u001b[0mdatetime\u001b[0m\u001b[0;34m.\u001b[0m\u001b[0mstrptime\u001b[0m\u001b[0;34m(\u001b[0m\u001b[0mts\u001b[0m\u001b[0;34m,\u001b[0m \u001b[0;34m'%H:%M:%S'\u001b[0m\u001b[0;34m)\u001b[0m\u001b[0;34m\u001b[0m\u001b[0;34m\u001b[0m\u001b[0m\n\u001b[0m\u001b[1;32m      3\u001b[0m     \u001b[0;32mreturn\u001b[0m \u001b[0mtime\u001b[0m\u001b[0;34m.\u001b[0m\u001b[0mmktime\u001b[0m\u001b[0;34m(\u001b[0m\u001b[0mtp\u001b[0m\u001b[0;34m.\u001b[0m\u001b[0mtimetuple\u001b[0m\u001b[0;34m(\u001b[0m\u001b[0;34m)\u001b[0m\u001b[0;34m)\u001b[0m \u001b[0;34m+\u001b[0m \u001b[0mtp\u001b[0m\u001b[0;34m.\u001b[0m\u001b[0mmicrosecond\u001b[0m\u001b[0;34m/\u001b[0m\u001b[0;36m1e6\u001b[0m\u001b[0;34m\u001b[0m\u001b[0;34m\u001b[0m\u001b[0m\n",
      "\u001b[0;32m/usr/lib/python3.8/_strptime.py\u001b[0m in \u001b[0;36m_strptime_datetime\u001b[0;34m(cls, data_string, format)\u001b[0m\n\u001b[1;32m    566\u001b[0m     \"\"\"Return a class cls instance based on the input string and the\n\u001b[1;32m    567\u001b[0m     format string.\"\"\"\n\u001b[0;32m--> 568\u001b[0;31m     \u001b[0mtt\u001b[0m\u001b[0;34m,\u001b[0m \u001b[0mfraction\u001b[0m\u001b[0;34m,\u001b[0m \u001b[0mgmtoff_fraction\u001b[0m \u001b[0;34m=\u001b[0m \u001b[0m_strptime\u001b[0m\u001b[0;34m(\u001b[0m\u001b[0mdata_string\u001b[0m\u001b[0;34m,\u001b[0m \u001b[0mformat\u001b[0m\u001b[0;34m)\u001b[0m\u001b[0;34m\u001b[0m\u001b[0;34m\u001b[0m\u001b[0m\n\u001b[0m\u001b[1;32m    569\u001b[0m     \u001b[0mtzname\u001b[0m\u001b[0;34m,\u001b[0m \u001b[0mgmtoff\u001b[0m \u001b[0;34m=\u001b[0m \u001b[0mtt\u001b[0m\u001b[0;34m[\u001b[0m\u001b[0;34m-\u001b[0m\u001b[0;36m2\u001b[0m\u001b[0;34m:\u001b[0m\u001b[0;34m]\u001b[0m\u001b[0;34m\u001b[0m\u001b[0;34m\u001b[0m\u001b[0m\n\u001b[1;32m    570\u001b[0m     \u001b[0margs\u001b[0m \u001b[0;34m=\u001b[0m \u001b[0mtt\u001b[0m\u001b[0;34m[\u001b[0m\u001b[0;34m:\u001b[0m\u001b[0;36m6\u001b[0m\u001b[0;34m]\u001b[0m \u001b[0;34m+\u001b[0m \u001b[0;34m(\u001b[0m\u001b[0mfraction\u001b[0m\u001b[0;34m,\u001b[0m\u001b[0;34m)\u001b[0m\u001b[0;34m\u001b[0m\u001b[0;34m\u001b[0m\u001b[0m\n",
      "\u001b[0;32m/usr/lib/python3.8/_strptime.py\u001b[0m in \u001b[0;36m_strptime\u001b[0;34m(data_string, format)\u001b[0m\n\u001b[1;32m    347\u001b[0m     \u001b[0mfound\u001b[0m \u001b[0;34m=\u001b[0m \u001b[0mformat_regex\u001b[0m\u001b[0;34m.\u001b[0m\u001b[0mmatch\u001b[0m\u001b[0;34m(\u001b[0m\u001b[0mdata_string\u001b[0m\u001b[0;34m)\u001b[0m\u001b[0;34m\u001b[0m\u001b[0;34m\u001b[0m\u001b[0m\n\u001b[1;32m    348\u001b[0m     \u001b[0;32mif\u001b[0m \u001b[0;32mnot\u001b[0m \u001b[0mfound\u001b[0m\u001b[0;34m:\u001b[0m\u001b[0;34m\u001b[0m\u001b[0;34m\u001b[0m\u001b[0m\n\u001b[0;32m--> 349\u001b[0;31m         raise ValueError(\"time data %r does not match format %r\" %\n\u001b[0m\u001b[1;32m    350\u001b[0m                          (data_string, format))\n\u001b[1;32m    351\u001b[0m     \u001b[0;32mif\u001b[0m \u001b[0mlen\u001b[0m\u001b[0;34m(\u001b[0m\u001b[0mdata_string\u001b[0m\u001b[0;34m)\u001b[0m \u001b[0;34m!=\u001b[0m \u001b[0mfound\u001b[0m\u001b[0;34m.\u001b[0m\u001b[0mend\u001b[0m\u001b[0;34m(\u001b[0m\u001b[0;34m)\u001b[0m\u001b[0;34m:\u001b[0m\u001b[0;34m\u001b[0m\u001b[0;34m\u001b[0m\u001b[0m\n",
      "\u001b[0;31mValueError\u001b[0m: time data '[16:00:20]{training.py:75} INFO - Starting trial 1 from the left with             0.3 s delay\\n' does not match format '%H:%M:%S'"
     ]
    }
   ],
   "source": [
    "t0 = t_str_to_ts(trials_numbers[0])#[1:24])\n",
    "times = [t_str_to_ts(line)-t0 for line in trials_numbers]\n",
    "times"
   ]
  },
  {
   "cell_type": "code",
   "execution_count": 55,
   "id": "foreign-transmission",
   "metadata": {},
   "outputs": [],
   "source": [
    "endings = []\n",
    "with open(\"NF_group1/m400060/2021_08_09/20210809-160016_game.log\",\"r\") as current_file:\n",
    "    for line in current_file.readlines():\n",
    "        if \"Ending trial\" in line:\n",
    "            endings.append(line)"
   ]
  },
  {
   "cell_type": "code",
   "execution_count": 56,
   "id": "ignored-study",
   "metadata": {},
   "outputs": [
    {
     "ename": "NameError",
     "evalue": "name 'times' is not defined",
     "output_type": "error",
     "traceback": [
      "\u001b[0;31m---------------------------------------------------------------------------\u001b[0m",
      "\u001b[0;31mNameError\u001b[0m                                 Traceback (most recent call last)",
      "\u001b[0;32m<ipython-input-56-d6d42a7d5e17>\u001b[0m in \u001b[0;36m<module>\u001b[0;34m\u001b[0m\n\u001b[1;32m      1\u001b[0m \u001b[0mrs\u001b[0m \u001b[0;34m=\u001b[0m \u001b[0mnp\u001b[0m\u001b[0;34m.\u001b[0m\u001b[0marray\u001b[0m\u001b[0;34m(\u001b[0m\u001b[0;34m[\u001b[0m\u001b[0;34m'goal'\u001b[0m \u001b[0;32min\u001b[0m \u001b[0me\u001b[0m \u001b[0;32mfor\u001b[0m \u001b[0me\u001b[0m \u001b[0;32min\u001b[0m \u001b[0mendings\u001b[0m\u001b[0;34m]\u001b[0m\u001b[0;34m)\u001b[0m\u001b[0;34m\u001b[0m\u001b[0;34m\u001b[0m\u001b[0m\n\u001b[0;32m----> 2\u001b[0;31m \u001b[0mts\u001b[0m \u001b[0;34m=\u001b[0m \u001b[0mnp\u001b[0m\u001b[0;34m.\u001b[0m\u001b[0marray\u001b[0m\u001b[0;34m(\u001b[0m\u001b[0mtimes\u001b[0m\u001b[0;34m[\u001b[0m\u001b[0;34m:\u001b[0m\u001b[0;34m-\u001b[0m\u001b[0;36m1\u001b[0m\u001b[0;34m]\u001b[0m\u001b[0;34m)\u001b[0m\u001b[0;34m\u001b[0m\u001b[0;34m\u001b[0m\u001b[0m\n\u001b[0m\u001b[1;32m      3\u001b[0m \u001b[0mspm\u001b[0m \u001b[0;34m=\u001b[0m \u001b[0;34m[\u001b[0m\u001b[0;34m]\u001b[0m\u001b[0;34m\u001b[0m\u001b[0;34m\u001b[0m\u001b[0m\n\u001b[1;32m      4\u001b[0m \u001b[0msuccess_times\u001b[0m \u001b[0;34m=\u001b[0m \u001b[0mts\u001b[0m\u001b[0;34m[\u001b[0m\u001b[0mrs\u001b[0m\u001b[0;34m>\u001b[0m\u001b[0;36m0\u001b[0m\u001b[0;34m]\u001b[0m\u001b[0;34m\u001b[0m\u001b[0;34m\u001b[0m\u001b[0m\n\u001b[1;32m      5\u001b[0m \u001b[0mps\u001b[0m \u001b[0;34m=\u001b[0m \u001b[0;36m30\u001b[0m\u001b[0;34m\u001b[0m\u001b[0;34m\u001b[0m\u001b[0m\n",
      "\u001b[0;31mNameError\u001b[0m: name 'times' is not defined"
     ]
    }
   ],
   "source": [
    "rs = np.array(['goal' in e for e in endings])\n",
    "ts = np.array(times[:-1])\n",
    "spm = []\n",
    "success_times = ts[rs>0]\n",
    "ps = 30\n",
    "for n in range(0, int((ts[-1])/ps)):\n",
    "    spm.append(np.sum(np.logical_and(success_times >= n*ps, success_times <(n+1)*ps)))    "
   ]
  },
  {
   "cell_type": "code",
   "execution_count": 22,
   "id": "lightweight-seeking",
   "metadata": {},
   "outputs": [
    {
     "data": {
      "text/plain": [
       "array([False, False, False, False, False, False, False, False, False,\n",
       "       False, False, False, False, False, False, False, False,  True,\n",
       "       False, False,  True, False,  True, False, False, False, False,\n",
       "       False,  True, False, False, False, False, False, False, False,\n",
       "        True, False, False, False,  True, False, False, False, False,\n",
       "       False, False, False, False, False, False, False,  True, False,\n",
       "       False, False, False, False, False, False, False, False, False,\n",
       "       False, False, False, False, False, False, False, False,  True,\n",
       "       False, False, False, False, False, False, False, False,  True,\n",
       "       False, False, False, False, False, False, False, False, False,\n",
       "       False, False, False, False, False, False, False, False, False,\n",
       "       False, False, False, False, False, False, False, False, False,\n",
       "       False, False, False, False, False, False,  True, False, False,\n",
       "       False, False, False, False,  True, False,  True, False, False,\n",
       "        True, False, False, False, False, False, False, False, False,\n",
       "       False, False, False, False, False, False, False, False,  True,\n",
       "       False,  True, False,  True, False, False, False, False, False,\n",
       "       False, False, False, False, False, False, False, False, False,\n",
       "        True, False, False, False, False,  True, False, False, False,\n",
       "       False, False, False])"
      ]
     },
     "execution_count": 22,
     "metadata": {},
     "output_type": "execute_result"
    }
   ],
   "source": [
    "rs = np.array(['timeout' in e for e in endings])\n",
    "rs"
   ]
  },
  {
   "cell_type": "code",
   "execution_count": null,
   "id": "parental-balance",
   "metadata": {},
   "outputs": [],
   "source": [
    "rt = np.array(['Timeout' in e for e in endings])\n",
    "timeout_times = ts[rt>0]"
   ]
  },
  {
   "cell_type": "code",
   "execution_count": null,
   "id": "linear-joseph",
   "metadata": {},
   "outputs": [],
   "source": [
    "active_trials = []\n",
    "with open(\"20210812-170717_game.log\",\"r\") as current_file:\n",
    "    for line in current_file.readlines():\n",
    "        if \"Starting trial\" in line:\n",
    "            active_trials.append(line)\n",
    "t = np.array(times)            \n",
    "at = np.array(['Starting' in e for e in active_trials])\n",
    "trials_times = t[at>0] \n",
    "trials_times"
   ]
  },
  {
   "cell_type": "code",
   "execution_count": null,
   "id": "considered-panama",
   "metadata": {},
   "outputs": [],
   "source": [
    "timeouts = []\n",
    "with open(\"20210812-170717_game.log\",\"r\") as current_file:\n",
    "    for line in current_file.readlines():\n",
    "        if \"Timeout\" in line:\n",
    "            timeouts.append(line)\n",
    "len(timeouts)\n",
    "            "
   ]
  },
  {
   "cell_type": "code",
   "execution_count": null,
   "id": "searching-shape",
   "metadata": {},
   "outputs": [],
   "source": [
    "rf = np.array(['overshoot' in e for e in endings])\n",
    "failure_times = ts[rf>0]\n",
    "len(failure_times)"
   ]
  },
  {
   "cell_type": "code",
   "execution_count": null,
   "id": "piano-parliament",
   "metadata": {},
   "outputs": [],
   "source": [
    "fig, ax = plt.subplots(2, figsize=(24, 6))\n",
    "ax[0].scatter(ts[rs>0], rs[rs>0], c='r')\n",
    "ax[0].scatter(ts[rs<.1], rs[rs<.1], c='k')\n",
    "ax[1].plot(spm)\n",
    "plt.savefig('success rate')"
   ]
  },
  {
   "cell_type": "code",
   "execution_count": null,
   "id": "vocational-wales",
   "metadata": {},
   "outputs": [],
   "source": [
    "len(success_times)"
   ]
  },
  {
   "cell_type": "code",
   "execution_count": null,
   "id": "finished-separate",
   "metadata": {},
   "outputs": [],
   "source": [
    "len(failure_times)"
   ]
  },
  {
   "cell_type": "code",
   "execution_count": null,
   "id": "extraordinary-anderson",
   "metadata": {},
   "outputs": [],
   "source": [
    "len(timeout_times)"
   ]
  },
  {
   "cell_type": "code",
   "execution_count": null,
   "id": "compressed-accused",
   "metadata": {},
   "outputs": [],
   "source": []
  },
  {
   "cell_type": "code",
   "execution_count": null,
   "id": "floppy-integrity",
   "metadata": {},
   "outputs": [],
   "source": []
  },
  {
   "cell_type": "code",
   "execution_count": null,
   "id": "novel-aurora",
   "metadata": {},
   "outputs": [],
   "source": []
  },
  {
   "cell_type": "markdown",
   "id": "breathing-posting",
   "metadata": {},
   "source": [
    "Additional Methods"
   ]
  },
  {
   "cell_type": "code",
   "execution_count": null,
   "id": "88bd491a",
   "metadata": {
    "scrolled": true
   },
   "outputs": [],
   "source": [
    "trial_times = []\n",
    "for line in trials_numbers: # Use the lines list from before (these are all lines that contained 'overshoot')\n",
    "    trial_times.append(get_time(line))\n",
    "\n",
    "trial_times # Show the list:\n",
    "\n"
   ]
  },
  {
   "cell_type": "code",
   "execution_count": null,
   "id": "enclosed-database",
   "metadata": {},
   "outputs": [],
   "source": [
    "successes = []\n",
    "def reg_exp():\n",
    "    pattern = 'success due to \"goal\"'\n",
    "    infile = open('20210812-170717_game.log', 'r')\n",
    "    match_count = 0\n",
    "    lines = 0\n",
    "\n",
    "    for line in infile:\n",
    "        match = re.search(pattern, line)\n",
    "        if match:\n",
    "            match_count += 1\n",
    "            lines += 1\n",
    "            successes.append(line)\n",
    "    return (lines, match_count)\n",
    "\n",
    "if __name__ == \"__main__\":\n",
    "    lines, match_count = reg_exp()\n",
    "    print ('LINES::', lines)\n",
    "    print ('MATCHES::', match_count)\n",
    "    \n",
    "trials = []\n",
    "def reg_exp_trials():\n",
    "    pattern = 'Starting trial'\n",
    "    infile = open('20210812-170717_game.log', 'r')\n",
    "    match_count = 0\n",
    "    lines = 0\n",
    "\n",
    "    for line in infile:\n",
    "        match = re.search(pattern, line)\n",
    "        if match:\n",
    "            match_count += 1\n",
    "            lines += 1 \n",
    "            trials.append(line)\n",
    "    return (lines, match_count)\n",
    "    \n",
    "\n",
    "if __name__ == \"__main__\":\n",
    "    lines, match_count = reg_exp_trials()\n",
    "    print ('LINES::', lines)\n",
    "    print ('MATCHES::', match_count)\n",
    "    \n",
    "    \n",
    "timeouts = []\n",
    "def reg_exp_timeout():\n",
    "    pattern = 'Hold movement exceeded. Timeout'\n",
    "    infile = open('20210812-170717_game.log', 'r')\n",
    "    match_count = 0\n",
    "    lines = 0\n",
    "\n",
    "    for line in infile:\n",
    "        match = re.search(pattern, line)\n",
    "        if match:\n",
    "            match_count += 1\n",
    "            lines += 1\n",
    "            timeouts.append(line)\n",
    "    return (lines, match_count)\n",
    "\n",
    "if __name__ == \"__main__\":\n",
    "    lines, match_count = reg_exp_timeout()\n",
    "    print ('LINES::', lines)\n",
    "    print ('MATCHES::', match_count)  \n",
    "    \n",
    "failures = []\n",
    "def reg_exp_failure():\n",
    "    pattern = 'failure due to \"overshoot\"'\n",
    "    infile = open('20210812-170717_game.log', 'r')\n",
    "    match_count = 0\n",
    "    lines = 0\n",
    "\n",
    "    for line in infile:\n",
    "        match = re.search(pattern, line)\n",
    "        if match:\n",
    "            match_count += 1\n",
    "            lines += 1 \n",
    "            failures.append(line)\n",
    "    return (lines, match_count)\n",
    "    \n",
    "\n",
    "if __name__ == \"__main__\":\n",
    "    lines, match_count = reg_exp_failure()\n",
    "    print ('LINES::', lines)\n",
    "    print ('MATCHES::', match_count)\n",
    "    \n",
    "failures    \n",
    "    \n",
    "    "
   ]
  },
  {
   "cell_type": "code",
   "execution_count": null,
   "id": "e5e42602",
   "metadata": {},
   "outputs": [],
   "source": [
    "def get_time(string):\n",
    "    pattern = re.compile(\"[0-9]{2}:[0-9]{2}:[0-9]{2}\") # Abstract form of time stamps using regular expressions.\n",
    "    pos = pattern.search(string) # Find the locations of the pattern in the string.\n",
    "    \n",
    "    # Timestamps have the form hh:mm:ss\n",
    "    hrs = string[pos.start():pos.start()+2] \n",
    "    mins = string[pos.start()+3:pos.start()+5]\n",
    "    secs = string[pos.start()+6:pos.start()+8]\n",
    "    \n",
    "    # Return the hours, minutes and seconds, converted to numbers (here integers)\n",
    "    return [int(hrs)*3600 + int(mins)+60 + int(secs)]\n",
    "\n",
    "\n",
    "\n",
    "\n",
    "def get_success(string):\n",
    "    pattern = re.compile(\"Successes:.*[0-9].*\") # Check for 'Success:' followed by any element, followed by any number of numbers.\n",
    "    pos = pattern.search(string)\n",
    "    match = string[pos.start():pos.end()]\n",
    "    \n",
    "    number_pattern = re.compile(\"[0-9]+\") # Check for numbers (must at least have one digit).\n",
    "    number_pos = number_pattern.search(match) # Find numbers in match.\n",
    "    return int(match[number_pos.start():number_pos.end()])\n",
    "\n",
    "\n"
   ]
  },
  {
   "cell_type": "code",
   "execution_count": null,
   "id": "mineral-workplace",
   "metadata": {},
   "outputs": [],
   "source": []
  },
  {
   "cell_type": "code",
   "execution_count": null,
   "id": "apparent-growth",
   "metadata": {},
   "outputs": [],
   "source": [
    "trial_nums = [int(s[64:s.index(' from')]) for s in trials_numbers]\n",
    "trial_nums"
   ]
  },
  {
   "cell_type": "code",
   "execution_count": null,
   "id": "excited-shannon",
   "metadata": {},
   "outputs": [],
   "source": [
    "for i in range(len(trial_times)):\n",
    "    print(\"Time: \", trial_times[i], \" ;  number of trials: \" , trials_numbers)       "
   ]
  },
  {
   "cell_type": "code",
   "execution_count": null,
   "id": "2be079a9",
   "metadata": {},
   "outputs": [],
   "source": [
    "success_times = []\n",
    "success_numbers = []\n",
    "\n",
    "with open(\"20210812-170717_game.log\",\"r\") as current_file:\n",
    "    for line in current_file.readlines():\n",
    "        # Should be ensured that 'Success' is in the line, before throwing the regular expression function at \n",
    "        # the string. Otherwise a 'nothing' could be returned. I did not make exception cases for these kind\n",
    "        # of things to keep the examples simple.\n",
    "        if \"Success\" in line: \n",
    "            success_times.append(get_time(line))\n",
    "            success_numbers.append(get_success(line))\n",
    "            \n",
    "# Displaying both together needs some additional printing\n",
    "unique_numbers = list(set(success_numbers))\n",
    "success = []\n",
    "for i in range(len(unique_numbers)):\n",
    "    success.append(i)\n",
    "    print(\"Time: \", success_times[i], \" ;  number of successes: \" , unique_numbers[i])\n",
    "success       "
   ]
  },
  {
   "cell_type": "code",
   "execution_count": null,
   "id": "interstate-absence",
   "metadata": {},
   "outputs": [],
   "source": []
  },
  {
   "cell_type": "markdown",
   "id": "external-joining",
   "metadata": {},
   "source": [
    "# Plots"
   ]
  },
  {
   "cell_type": "code",
   "execution_count": null,
   "id": "loved-peripheral",
   "metadata": {
    "scrolled": true
   },
   "outputs": [],
   "source": [
    "plt.scatter(success_times, success_numbers)"
   ]
  },
  {
   "cell_type": "code",
   "execution_count": null,
   "id": "sweet-beach",
   "metadata": {},
   "outputs": [],
   "source": [
    "plt.plot(failures)"
   ]
  },
  {
   "cell_type": "code",
   "execution_count": null,
   "id": "approved-canon",
   "metadata": {},
   "outputs": [],
   "source": []
  }
 ],
 "metadata": {
  "kernelspec": {
   "display_name": "Python 3",
   "language": "python",
   "name": "python3"
  },
  "language_info": {
   "codemirror_mode": {
    "name": "ipython",
    "version": 3
   },
   "file_extension": ".py",
   "mimetype": "text/x-python",
   "name": "python",
   "nbconvert_exporter": "python",
   "pygments_lexer": "ipython3",
   "version": "3.8.5"
  }
 },
 "nbformat": 4,
 "nbformat_minor": 5
}
